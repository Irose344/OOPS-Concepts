{
  "nbformat": 4,
  "nbformat_minor": 0,
  "metadata": {
    "colab": {
      "provenance": []
    },
    "kernelspec": {
      "name": "python3",
      "display_name": "Python 3"
    },
    "language_info": {
      "name": "python"
    }
  },
  "cells": [
    {
      "cell_type": "code",
      "execution_count": null,
      "metadata": {
        "colab": {
          "base_uri": "https://localhost:8080/"
        },
        "id": "0RYRZ3kySSl3",
        "outputId": "55432c79-6967-4c53-b89f-d5ca744f065b"
      },
      "outputs": [
        {
          "output_type": "stream",
          "name": "stdout",
          "text": [
            "10\n"
          ]
        }
      ],
      "source": [
        "'''1. Create a class named parent_Class and inside the class, initialize a global\n",
        "variable num as 10\n",
        "a. Create another class named child_Class and this class should be\n",
        "inherited from the parent class.\n",
        "b. Now create an object for the child_Class and with the help of\n",
        "child_Class object, display the value of ‘num'''\n",
        "\n",
        "class parent_Class:\n",
        "  num=10\n",
        "\n",
        "class child_Class(parent_Class):\n",
        "  pass\n",
        "\n",
        "c=child_Class\n",
        "print(c.num)"
      ]
    },
    {
      "cell_type": "code",
      "source": [
        "'''\n",
        "2. Create three classes named A, B and C\n",
        "a. Inside the A class, create a constructor. Inside the constructor, initialize\n",
        "2 global variables name and age.\n",
        "b. After initializing the global variables inside the constructor, now create a\n",
        "function named ‘details’ and that function should return the ‘name’ variable.\n",
        "c. Inside the B class, create a constructor. Inside the constructor, initialize 2\n",
        "global variables name and id.\n",
        "d. After initializing the global variables inside the constructor, now create a\n",
        "function named ‘details’ and that function should return the ‘name’ variable.\n",
        "e. The C class should inherit from class A, and B. Inside the class C,\n",
        "create a constructor, and inside the constructor, call the constructor of\n",
        "class A.\n",
        "f. Now, create a method inside the class C, as get_details, and this function\n",
        "should return the value of name.\n",
        "g. Atlast, create an object of class C, and with the help of the object, call\n",
        "the get_details().'''\n",
        "\n",
        "class A:\n",
        "  def __init__(self,name,age):\n",
        "    self.name=name\n",
        "    self.age=age\n",
        "  def details(self):\n",
        "    return f\"{self.name}\"\n",
        "\n",
        "class B:\n",
        "  def __init__(self,name,id):\n",
        "    self.name=name\n",
        "    self.id=id\n",
        "  def details(self):\n",
        "    return f\"{self.name}\"\n",
        "\n",
        "class C(A,B):\n",
        "  def __init__(self,name,age,id):\n",
        "    A.__init__(self,name,age)\n",
        "\n",
        "  def get_details(self):\n",
        "    return f'{self.name}'\n",
        "\n",
        "c=C(\"Irene\",34,\"19\")\n",
        "print(c.get_details())\n"
      ],
      "metadata": {
        "id": "KfMV-YM5TGhV",
        "colab": {
          "base_uri": "https://localhost:8080/"
        },
        "outputId": "4430c5bb-8641-4b04-85c9-130d96bf9ee3"
      },
      "execution_count": 6,
      "outputs": [
        {
          "output_type": "stream",
          "name": "stdout",
          "text": [
            "Irene\n"
          ]
        }
      ]
    },
    {
      "cell_type": "code",
      "source": [
        "'''\n",
        "3. Create a class named ‘Sub1’, inside the class, generate a user defined\n",
        "function named ‘first’ and inside the function, pass the following statement\n",
        "in the print()- ‘This is the first function from Sub 1 class’.\n",
        "a. Now create another class named ‘Sub2’, and inside the class, create a\n",
        "function named ‘second’, and pass the following message in the print()-\n",
        "‘This is the second function from the Sub 2 class’.\n",
        "\n",
        "b. After that, create another class named ‘Super’ and inside that class,\n",
        "create a method named ‘final’, and pass the below message in the print()-\n",
        "‘This is the final method from the super class’.\n",
        "\n",
        "c. Now, create an object for the Super class and call all the 3 user defined\n",
        "methods, i.e., first(), second(), and final().\n",
        "'''\n",
        "\n",
        "class Sub1:\n",
        "  def first(self):\n",
        "    print(\"This is the first function from Sub 1 class\")\n",
        "\n",
        "class Sub2:\n",
        "  def second(self):\n",
        "    print(\"This is the seconf ducntion from Sub2 class\")\n",
        "\n",
        "class Super(Sub1,Sub2):\n",
        "  def final(self):\n",
        "    print(\"This is the final method from the super class\")\n",
        "\n",
        "c=Super()\n",
        "c.first()\n",
        "c.second()\n",
        "c.final()"
      ],
      "metadata": {
        "colab": {
          "base_uri": "https://localhost:8080/"
        },
        "id": "LLogVhfj0mJ1",
        "outputId": "9eca0290-1a42-433b-e735-bc74edce40af"
      },
      "execution_count": 9,
      "outputs": [
        {
          "output_type": "stream",
          "name": "stdout",
          "text": [
            "This is the first function from Sub 1 class\n",
            "This is the seconf ducntion from Sub2 class\n",
            "This is the final method from the super class\n"
          ]
        }
      ]
    },
    {
      "cell_type": "code",
      "source": [
        "'''4. Create a class named ‘Parent’, and inside the class, create a function\n",
        "named ‘fun1’ and pass the following message in the print()- ‘This is the\n",
        "message from the fun1’.\n",
        "a. Now create a class named ‘Child1’ and inside the class, create a\n",
        "method named ‘fun2’ and pass the following message in the print()- ‘This is\n",
        "the message from the fun2’.\n",
        "b. After that, create another class named ‘Child2’ and inside the class,\n",
        "create a method named ‘fun3’ and pass the following message in the\n",
        "print()- ‘This is the message from the fun3’.\n",
        "c. Now, create an object of Child2 class and with the help of the object, call\n",
        "the ‘fun1’ method from the ‘Parent’ class.'''\n",
        "\n",
        "class Parent:\n",
        "  def fun1(self):\n",
        "    print(\"This is the message from fun1\")\n",
        "\n",
        "class Child1(Parent):\n",
        "  def fun2(self):\n",
        "    print(\"This is the message from fun2\")\n",
        "\n",
        "class Child2(Parent):\n",
        "  def fun3(self):\n",
        "    print(\"This is the message from fun3\")\n",
        "\n",
        "c2=Child2()\n",
        "c2.fun1()"
      ],
      "metadata": {
        "colab": {
          "base_uri": "https://localhost:8080/"
        },
        "id": "z3kygzLT1p_7",
        "outputId": "c5e4759b-df62-48a6-880c-f46d63db2a08"
      },
      "execution_count": 12,
      "outputs": [
        {
          "output_type": "stream",
          "name": "stdout",
          "text": [
            "This is the message from fun1\n"
          ]
        }
      ]
    },
    {
      "cell_type": "code",
      "source": [
        "'''5. Create a class named ‘Parent’, and inside the class, create a function\n",
        "named ‘fun1’ and pass the following message in the print()- ‘This is the\n",
        "message from the fun1’.\n",
        "a. Now create a class named ‘Child’ and inside the class, create a method\n",
        "named ‘fun2’ and pass the following message in the print()- ‘This is the\n",
        "message from the fun2’.\n",
        "b. After that, create another class named ‘Hybrid’ and inside the class,\n",
        "create a method named ‘fun3’ and pass the following message in the\n",
        "print()- ‘This is the message from the fun3’.\n",
        "c. Now create an object of Hybrid class and with the help of the object, call\n",
        "the ‘fun1’, ‘fun2’ and ‘fun3’ methods.'''\n",
        "\n",
        "class Parent:\n",
        "  def fun1(self):\n",
        "    print(\"This is the message from the fun1\")\n",
        "\n",
        "class Child:\n",
        "  def fun2(self):\n",
        "    print(\"This is the message from the fun2\")\n",
        "\n",
        "class Hybrid(Parent,Child):\n",
        "  def fun3(self):\n",
        "    print(\"This is the message from the fun3\")\n",
        "\n",
        "h=Hybrid()\n",
        "h.fun1()\n",
        "h.fun2()\n",
        "h.fun3()"
      ],
      "metadata": {
        "colab": {
          "base_uri": "https://localhost:8080/"
        },
        "id": "FMxjNbgC2RPt",
        "outputId": "b65ab744-a0f6-43a3-d970-ba185209e521"
      },
      "execution_count": 13,
      "outputs": [
        {
          "output_type": "stream",
          "name": "stdout",
          "text": [
            "This is the message from the fun1\n",
            "This is the message from the fun2\n",
            "This is the message from the fun3\n"
          ]
        }
      ]
    }
  ]
}
