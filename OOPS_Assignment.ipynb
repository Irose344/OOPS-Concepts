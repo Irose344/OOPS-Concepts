{
  "nbformat": 4,
  "nbformat_minor": 0,
  "metadata": {
    "colab": {
      "provenance": []
    },
    "kernelspec": {
      "name": "python3",
      "display_name": "Python 3"
    },
    "language_info": {
      "name": "python"
    }
  },
  "cells": [
    {
      "cell_type": "code",
      "source": [
        "'''Q1. Write a Python program to demonstrate multiple inheritance.\n",
        "1. Employee class has 3 data members EmployeeID, Gender (String), Salary and\n",
        "PerformanceRating(Out of 5) of type int. It has a get() function to get these details from\n",
        "the user.\n",
        "2. JoiningDetail class has a data member DateOfJoining of type Date and a function\n",
        "getDoJ to get the Date of joining of employees.\n",
        "3. Information Class uses the marks from Employee class and the DateOfJoining date\n",
        "from the JoiningDetail class to calculate the top 3 Employees based on their Ratings\n",
        "and then Display, using readData, all the details on these employees in Ascending\n",
        "order of their Date Of Joining.'''\n",
        "\n",
        "\n",
        "from datetime import datetime\n",
        "\n",
        "class Employee:\n",
        "    def __init__(self):\n",
        "        self.EmployeeID = \"\"\n",
        "        self.Gender = \"\"\n",
        "        self.Salary = 0\n",
        "        self.PerformanceRating = 0\n",
        "\n",
        "    def get(self):\n",
        "        self.EmployeeID = input(\"Enter the EmployeeID: \")\n",
        "        self.Gender = input(\"Enter the Gender: \")\n",
        "        self.Salary = int(input(\"Enter the Salary: \"))\n",
        "        self.PerformanceRating = int(input(\"Enter the Performance Rating (out of 5): \"))\n",
        "\n",
        "class JoiningDetail:\n",
        "    def __init__(self):\n",
        "        self.doj = \"\"\n",
        "\n",
        "    def getDoJ(self):\n",
        "        self.doj = input(\"Enter the date of joining (YYYY-MM-DD): \")\n",
        "        self.doj = datetime.strptime(self.doj, \"%Y-%m-%d\")\n",
        "\n",
        "class Information(Employee, JoiningDetail):\n",
        "    def __init__(self):\n",
        "        Employee.__init__(self)  # Initialize Employee constructor\n",
        "        JoiningDetail.__init__(self)  # Initialize JoiningDetail constructor\n",
        "        self.employee = []\n",
        "\n",
        "    def add_employee(self):\n",
        "        self.get()\n",
        "        self.getDoJ()\n",
        "        employeedata = {\n",
        "            \"EmployeeID\": self.EmployeeID,\n",
        "            \"Gender\": self.Gender,\n",
        "            \"Salary\": self.Salary,\n",
        "            \"PerformanceRating\": self.PerformanceRating,\n",
        "            \"JoiningDate\": self.doj\n",
        "        }\n",
        "        self.employee.append(employeedata)\n",
        "\n",
        "    def readData(self):\n",
        "        # Sorting by PerformanceRating and JoiningDate\n",
        "        top3_employee = sorted(self.employee, key=lambda x: x['PerformanceRating'], reverse=True)[:3]\n",
        "        top3_employee_asc = sorted(top3_employee, key=lambda x: x['JoiningDate'])\n",
        "        return top3_employee_asc\n",
        "\n",
        "# Main logic\n",
        "inf = Information()\n",
        "num = int(input(\"Enter the number of employees: \"))\n",
        "for _ in range(num):\n",
        "    inf.add_employee()\n",
        "\n",
        "# Print the top 3 employees based on performance and joining date\n",
        "top_employees = inf.readData()\n",
        "for emp in top_employees:\n",
        "    print(f\"EmployeeID: {emp['EmployeeID']}, Gender: {emp['Gender']}, Salary: {emp['Salary']}, \"\n",
        "          f\"Performance Rating: {emp['PerformanceRating']}, Date of Joining: {emp['JoiningDate'].strftime('%Y-%m-%d')}\")\n"
      ],
      "metadata": {
        "id": "MN6N9o8skUQM",
        "colab": {
          "base_uri": "https://localhost:8080/",
          "height": 366
        },
        "outputId": "78ae77d2-2997-4c2d-f3a7-44628604ebd2"
      },
      "execution_count": 14,
      "outputs": [
        {
          "output_type": "error",
          "ename": "KeyboardInterrupt",
          "evalue": "Interrupted by user",
          "traceback": [
            "\u001b[0;31m---------------------------------------------------------------------------\u001b[0m",
            "\u001b[0;31mKeyboardInterrupt\u001b[0m                         Traceback (most recent call last)",
            "\u001b[0;32m<ipython-input-14-6555be2c8f68>\u001b[0m in \u001b[0;36m<cell line: 62>\u001b[0;34m()\u001b[0m\n\u001b[1;32m     60\u001b[0m \u001b[0;31m# Main logic\u001b[0m\u001b[0;34m\u001b[0m\u001b[0;34m\u001b[0m\u001b[0m\n\u001b[1;32m     61\u001b[0m \u001b[0minf\u001b[0m \u001b[0;34m=\u001b[0m \u001b[0mInformation\u001b[0m\u001b[0;34m(\u001b[0m\u001b[0;34m)\u001b[0m\u001b[0;34m\u001b[0m\u001b[0;34m\u001b[0m\u001b[0m\n\u001b[0;32m---> 62\u001b[0;31m \u001b[0mnum\u001b[0m \u001b[0;34m=\u001b[0m \u001b[0mint\u001b[0m\u001b[0;34m(\u001b[0m\u001b[0minput\u001b[0m\u001b[0;34m(\u001b[0m\u001b[0;34m\"Enter the number of employees: \"\u001b[0m\u001b[0;34m)\u001b[0m\u001b[0;34m)\u001b[0m\u001b[0;34m\u001b[0m\u001b[0;34m\u001b[0m\u001b[0m\n\u001b[0m\u001b[1;32m     63\u001b[0m \u001b[0;32mfor\u001b[0m \u001b[0m_\u001b[0m \u001b[0;32min\u001b[0m \u001b[0mrange\u001b[0m\u001b[0;34m(\u001b[0m\u001b[0mnum\u001b[0m\u001b[0;34m)\u001b[0m\u001b[0;34m:\u001b[0m\u001b[0;34m\u001b[0m\u001b[0;34m\u001b[0m\u001b[0m\n\u001b[1;32m     64\u001b[0m     \u001b[0minf\u001b[0m\u001b[0;34m.\u001b[0m\u001b[0madd_employee\u001b[0m\u001b[0;34m(\u001b[0m\u001b[0;34m)\u001b[0m\u001b[0;34m\u001b[0m\u001b[0;34m\u001b[0m\u001b[0m\n",
            "\u001b[0;32m/usr/local/lib/python3.10/dist-packages/ipykernel/kernelbase.py\u001b[0m in \u001b[0;36mraw_input\u001b[0;34m(self, prompt)\u001b[0m\n\u001b[1;32m    849\u001b[0m                 \u001b[0;34m\"raw_input was called, but this frontend does not support input requests.\"\u001b[0m\u001b[0;34m\u001b[0m\u001b[0;34m\u001b[0m\u001b[0m\n\u001b[1;32m    850\u001b[0m             )\n\u001b[0;32m--> 851\u001b[0;31m         return self._input_request(str(prompt),\n\u001b[0m\u001b[1;32m    852\u001b[0m             \u001b[0mself\u001b[0m\u001b[0;34m.\u001b[0m\u001b[0m_parent_ident\u001b[0m\u001b[0;34m,\u001b[0m\u001b[0;34m\u001b[0m\u001b[0;34m\u001b[0m\u001b[0m\n\u001b[1;32m    853\u001b[0m             \u001b[0mself\u001b[0m\u001b[0;34m.\u001b[0m\u001b[0m_parent_header\u001b[0m\u001b[0;34m,\u001b[0m\u001b[0;34m\u001b[0m\u001b[0;34m\u001b[0m\u001b[0m\n",
            "\u001b[0;32m/usr/local/lib/python3.10/dist-packages/ipykernel/kernelbase.py\u001b[0m in \u001b[0;36m_input_request\u001b[0;34m(self, prompt, ident, parent, password)\u001b[0m\n\u001b[1;32m    893\u001b[0m             \u001b[0;32mexcept\u001b[0m \u001b[0mKeyboardInterrupt\u001b[0m\u001b[0;34m:\u001b[0m\u001b[0;34m\u001b[0m\u001b[0;34m\u001b[0m\u001b[0m\n\u001b[1;32m    894\u001b[0m                 \u001b[0;31m# re-raise KeyboardInterrupt, to truncate traceback\u001b[0m\u001b[0;34m\u001b[0m\u001b[0;34m\u001b[0m\u001b[0m\n\u001b[0;32m--> 895\u001b[0;31m                 \u001b[0;32mraise\u001b[0m \u001b[0mKeyboardInterrupt\u001b[0m\u001b[0;34m(\u001b[0m\u001b[0;34m\"Interrupted by user\"\u001b[0m\u001b[0;34m)\u001b[0m \u001b[0;32mfrom\u001b[0m \u001b[0;32mNone\u001b[0m\u001b[0;34m\u001b[0m\u001b[0;34m\u001b[0m\u001b[0m\n\u001b[0m\u001b[1;32m    896\u001b[0m             \u001b[0;32mexcept\u001b[0m \u001b[0mException\u001b[0m \u001b[0;32mas\u001b[0m \u001b[0me\u001b[0m\u001b[0;34m:\u001b[0m\u001b[0;34m\u001b[0m\u001b[0;34m\u001b[0m\u001b[0m\n\u001b[1;32m    897\u001b[0m                 \u001b[0mself\u001b[0m\u001b[0;34m.\u001b[0m\u001b[0mlog\u001b[0m\u001b[0;34m.\u001b[0m\u001b[0mwarning\u001b[0m\u001b[0;34m(\u001b[0m\u001b[0;34m\"Invalid Message:\"\u001b[0m\u001b[0;34m,\u001b[0m \u001b[0mexc_info\u001b[0m\u001b[0;34m=\u001b[0m\u001b[0;32mTrue\u001b[0m\u001b[0;34m)\u001b[0m\u001b[0;34m\u001b[0m\u001b[0;34m\u001b[0m\u001b[0m\n",
            "\u001b[0;31mKeyboardInterrupt\u001b[0m: Interrupted by user"
          ]
        }
      ]
    },
    {
      "cell_type": "code",
      "source": [
        "'''Q.2 Write a Python program to demonstrate Polymorphism.\n",
        "1. Class Vehicle with a parameterized function Fare, that takes input value as fare and\n",
        "returns it to calling Objects.\n",
        "2. Create five separate variables Bus, Car, Train, Truck and Ship that call the Fare\n",
        "function.\n",
        "3. Use a third variable TotalFare to store the sum of fare for each Vehicle Type.\n",
        "4. Print the TotalFare.'''\n",
        "\n",
        "\n",
        "class Vehicle:\n",
        "  def Fare(self,fare):\n",
        "    return fare\n",
        "\n",
        "Bus=Vehicle()\n",
        "Car=Vehicle()\n",
        "Train=Vehicle()\n",
        "Truck=Vehicle()\n",
        "Ship=Vehicle()\n",
        "\n",
        "bus_fare=Bus.Fare(40)\n",
        "car_fare=Car.Fare(20)\n",
        "train_fare=Train.Fare(60)\n",
        "truck_fare=Truck.Fare(30)\n",
        "ship_fare=Ship.Fare(10)\n",
        "\n",
        "TotalFare=bus_fare+car_fare+train_fare+truck_fare+ship_fare\n",
        "print(TotalFare)\n",
        "\n"
      ],
      "metadata": {
        "colab": {
          "base_uri": "https://localhost:8080/"
        },
        "id": "huGvhqCALPnX",
        "outputId": "96745ffb-cf69-4032-e344-6bd14cd61883"
      },
      "execution_count": null,
      "outputs": [
        {
          "output_type": "stream",
          "name": "stdout",
          "text": [
            "160\n"
          ]
        }
      ]
    },
    {
      "cell_type": "code",
      "source": [
        "'''Q3. Consider an ongoing test cricket series. Following are the names of the players and their\n",
        "scores in the test1 and 2.\n",
        "Test Match 1 :\n",
        "Dhoni : 56 , Balaji : 94\n",
        "Test Match 2 :\n",
        "Balaji : 80 , Dravid : 105\n",
        "Calculate the highest number of runs scored by an individual cricketer in both of the matches.\n",
        "Create a python function Max_Score (M) that reads a dictionary M that recognizes the player\n",
        "with the highest total score. This function will return ( Top player , Total Score ) . You can\n",
        "consider the Top player as String who is the highest scorer and Top score as Integer .\n",
        "Input : Max_Score({‘test1’:{‘Dhoni’:56, ‘Balaji : 85}, ‘test2’:{‘Dhoni’ 87, ‘Balaji’’:200}})\n",
        "Output : (‘Balaji ‘ , 200)'''\n",
        "\n",
        "def Max_Score(**M):\n",
        "  top_score=0\n",
        "  top_key=\"\"\n",
        "  for key1,val1 in M.items():\n",
        "    for key2,val2 in val1.items():\n",
        "      if top_score<val2:\n",
        "        top_score=val2\n",
        "        top_key=key2\n",
        "  return (top_key,top_score)\n",
        "\n",
        "in_val={'test1':{'Dhoni':56, 'Balaji' : 85},'test2':{'Dhoni': 87, 'Balaji':200}}\n",
        "print(Max_Score(**in_val))"
      ],
      "metadata": {
        "id": "5e1yr6jph-PK",
        "colab": {
          "base_uri": "https://localhost:8080/"
        },
        "outputId": "645340ee-d540-4e9d-a261-db0132a4b7aa"
      },
      "execution_count": null,
      "outputs": [
        {
          "output_type": "stream",
          "name": "stdout",
          "text": [
            "('Balaji', 200)\n"
          ]
        }
      ]
    },
    {
      "cell_type": "code",
      "source": [
        "'''Q4. Create a simple Card game in which there are 8 cards which are randomly chosen from a\n",
        "deck. The first card is shown face up. The game asks the player to predict whether the next card\n",
        "in the selection will have a higher or lower value than the currently showing card.\n",
        "For example, say the card that’s shown is a 3. The player chooses “higher,” and the next card is\n",
        "shown. If that card has a higher value, the player is correct. In this example, if the player had\n",
        "chosen “lower,” they would have been incorrect. If the player guesses correctly, they get 20\n",
        "points. If they choose incorrectly, they lose 15 points. If the next card to be turned over has the\n",
        "same value as the previous card, the player is incorrect.'''\n",
        "\n",
        "import random\n",
        "\n",
        "class Card_Game:\n",
        "  def __init__(self,total):\n",
        "    self.total=total\n",
        "\n",
        "  def game(self):\n",
        "    rand_num=print(\"Card Value: \",random.randint(1,8))\n",
        "    card_predict=input(\"Enter higher or lower\")\n",
        "    if card_predict.lower()==\"lower\":\n",
        "      print(\"Correct\")\n",
        "      self.total+=20\n",
        "    else:\n",
        "      print(\"Incorrect\")\n",
        "      self.total-=15\n",
        "    return self.total\n",
        "\n",
        "\n",
        "c=Card_Game(0)\n",
        "while(True):\n",
        "  print(\"Total points: \",c.game())\n",
        "  user_input=input(\"Do you want to continue(Yes/No)?\")\n",
        "  if user_input.lower()==\"no\":\n",
        "    break"
      ],
      "metadata": {
        "id": "n7OzVdnf_YJE",
        "colab": {
          "base_uri": "https://localhost:8080/",
          "height": 618
        },
        "outputId": "a908c2ad-6f9a-4f8b-e037-807f3c64bfd3"
      },
      "execution_count": null,
      "outputs": [
        {
          "output_type": "stream",
          "name": "stdout",
          "text": [
            "Card Value:  4\n",
            "Enter higher or lowerlower\n",
            "Correct\n",
            "Total points:  20\n",
            "Do you want to continue(Yes/No)?yes\n",
            "Card Value:  1\n",
            "Enter higher or lowerlower\n",
            "Correct\n",
            "Total points:  40\n",
            "Do you want to continue(Yes/No)?yes\n",
            "Card Value:  2\n",
            "Enter higher or lowerlower\n",
            "Correct\n",
            "Total points:  60\n"
          ]
        },
        {
          "output_type": "error",
          "ename": "KeyboardInterrupt",
          "evalue": "Interrupted by user",
          "traceback": [
            "\u001b[0;31m---------------------------------------------------------------------------\u001b[0m",
            "\u001b[0;31mKeyboardInterrupt\u001b[0m                         Traceback (most recent call last)",
            "\u001b[0;32m<ipython-input-23-91b84b7c700f>\u001b[0m in \u001b[0;36m<cell line: 29>\u001b[0;34m()\u001b[0m\n\u001b[1;32m     29\u001b[0m \u001b[0;32mwhile\u001b[0m\u001b[0;34m(\u001b[0m\u001b[0;32mTrue\u001b[0m\u001b[0;34m)\u001b[0m\u001b[0;34m:\u001b[0m\u001b[0;34m\u001b[0m\u001b[0;34m\u001b[0m\u001b[0m\n\u001b[1;32m     30\u001b[0m   \u001b[0mprint\u001b[0m\u001b[0;34m(\u001b[0m\u001b[0;34m\"Total points: \"\u001b[0m\u001b[0;34m,\u001b[0m\u001b[0mc\u001b[0m\u001b[0;34m.\u001b[0m\u001b[0mgame\u001b[0m\u001b[0;34m(\u001b[0m\u001b[0;34m)\u001b[0m\u001b[0;34m)\u001b[0m\u001b[0;34m\u001b[0m\u001b[0;34m\u001b[0m\u001b[0m\n\u001b[0;32m---> 31\u001b[0;31m   \u001b[0muser_input\u001b[0m\u001b[0;34m=\u001b[0m\u001b[0minput\u001b[0m\u001b[0;34m(\u001b[0m\u001b[0;34m\"Do you want to continue(Yes/No)?\"\u001b[0m\u001b[0;34m)\u001b[0m\u001b[0;34m\u001b[0m\u001b[0;34m\u001b[0m\u001b[0m\n\u001b[0m\u001b[1;32m     32\u001b[0m   \u001b[0;32mif\u001b[0m \u001b[0muser_input\u001b[0m\u001b[0;34m.\u001b[0m\u001b[0mlower\u001b[0m\u001b[0;34m(\u001b[0m\u001b[0;34m)\u001b[0m\u001b[0;34m==\u001b[0m\u001b[0;34m\"no\"\u001b[0m\u001b[0;34m:\u001b[0m\u001b[0;34m\u001b[0m\u001b[0;34m\u001b[0m\u001b[0m\n\u001b[1;32m     33\u001b[0m     \u001b[0;32mbreak\u001b[0m\u001b[0;34m\u001b[0m\u001b[0;34m\u001b[0m\u001b[0m\n",
            "\u001b[0;32m/usr/local/lib/python3.10/dist-packages/ipykernel/kernelbase.py\u001b[0m in \u001b[0;36mraw_input\u001b[0;34m(self, prompt)\u001b[0m\n\u001b[1;32m    849\u001b[0m                 \u001b[0;34m\"raw_input was called, but this frontend does not support input requests.\"\u001b[0m\u001b[0;34m\u001b[0m\u001b[0;34m\u001b[0m\u001b[0m\n\u001b[1;32m    850\u001b[0m             )\n\u001b[0;32m--> 851\u001b[0;31m         return self._input_request(str(prompt),\n\u001b[0m\u001b[1;32m    852\u001b[0m             \u001b[0mself\u001b[0m\u001b[0;34m.\u001b[0m\u001b[0m_parent_ident\u001b[0m\u001b[0;34m,\u001b[0m\u001b[0;34m\u001b[0m\u001b[0;34m\u001b[0m\u001b[0m\n\u001b[1;32m    853\u001b[0m             \u001b[0mself\u001b[0m\u001b[0;34m.\u001b[0m\u001b[0m_parent_header\u001b[0m\u001b[0;34m,\u001b[0m\u001b[0;34m\u001b[0m\u001b[0;34m\u001b[0m\u001b[0m\n",
            "\u001b[0;32m/usr/local/lib/python3.10/dist-packages/ipykernel/kernelbase.py\u001b[0m in \u001b[0;36m_input_request\u001b[0;34m(self, prompt, ident, parent, password)\u001b[0m\n\u001b[1;32m    893\u001b[0m             \u001b[0;32mexcept\u001b[0m \u001b[0mKeyboardInterrupt\u001b[0m\u001b[0;34m:\u001b[0m\u001b[0;34m\u001b[0m\u001b[0;34m\u001b[0m\u001b[0m\n\u001b[1;32m    894\u001b[0m                 \u001b[0;31m# re-raise KeyboardInterrupt, to truncate traceback\u001b[0m\u001b[0;34m\u001b[0m\u001b[0;34m\u001b[0m\u001b[0m\n\u001b[0;32m--> 895\u001b[0;31m                 \u001b[0;32mraise\u001b[0m \u001b[0mKeyboardInterrupt\u001b[0m\u001b[0;34m(\u001b[0m\u001b[0;34m\"Interrupted by user\"\u001b[0m\u001b[0;34m)\u001b[0m \u001b[0;32mfrom\u001b[0m \u001b[0;32mNone\u001b[0m\u001b[0;34m\u001b[0m\u001b[0;34m\u001b[0m\u001b[0m\n\u001b[0m\u001b[1;32m    896\u001b[0m             \u001b[0;32mexcept\u001b[0m \u001b[0mException\u001b[0m \u001b[0;32mas\u001b[0m \u001b[0me\u001b[0m\u001b[0;34m:\u001b[0m\u001b[0;34m\u001b[0m\u001b[0;34m\u001b[0m\u001b[0m\n\u001b[1;32m    897\u001b[0m                 \u001b[0mself\u001b[0m\u001b[0;34m.\u001b[0m\u001b[0mlog\u001b[0m\u001b[0;34m.\u001b[0m\u001b[0mwarning\u001b[0m\u001b[0;34m(\u001b[0m\u001b[0;34m\"Invalid Message:\"\u001b[0m\u001b[0;34m,\u001b[0m \u001b[0mexc_info\u001b[0m\u001b[0;34m=\u001b[0m\u001b[0;32mTrue\u001b[0m\u001b[0;34m)\u001b[0m\u001b[0;34m\u001b[0m\u001b[0;34m\u001b[0m\u001b[0m\n",
            "\u001b[0;31mKeyboardInterrupt\u001b[0m: Interrupted by user"
          ]
        }
      ]
    },
    {
      "cell_type": "code",
      "source": [
        "'''Q5. Create an empty dictionary called Car_0 . Then fill the dictionary with Keys : color , speed\n",
        ", X_position and Y_position.\n",
        "car_0 = {'x_position': 10, 'y_position': 72, 'speed': 'medium'} .\n",
        "a) If the speed is slow the coordinates of the X_pos get incremented by 2.\n",
        "b) If the speed is Medium the coordinates of the X_pos gets incremented by 9\n",
        "c) Now if the speed is Fast the coordinates of the X_pos gets incremented by 22.\n",
        "Print the modified dictionary.'''\n",
        "\n",
        "\n",
        "class Car:\n",
        "  def __init__(self,**kwargs):\n",
        "    self.car_0={}\n",
        "    for key,val in kwargs.items():\n",
        "      self.car_0[key]=val\n",
        "\n",
        "\n",
        "  def car_speed(self):\n",
        "    if(self.car_0['speed'].lower()==\"slow\"):\n",
        "      self.car_0['x_position']+=2\n",
        "    if(self.car_0['speed'].lower()==\"medium\"):\n",
        "      self.car_0['x_position']+=9\n",
        "    if(self.car_0['speed'].lower()==\"fast\"):\n",
        "      self.car_0['x_position']+=22\n",
        "\n",
        "  def display(self):\n",
        "    return f\"x_position': {self.car_0['x_position']}, 'y_position': {self.car_0['y_position']}, 'speed': {self.car_0['speed']}\"\n",
        "\n",
        "c=Car(**{'x_position': 10, 'y_position': 72, 'speed': 'medium'})\n",
        "c.car_speed()\n",
        "print(c.display())\n"
      ],
      "metadata": {
        "colab": {
          "base_uri": "https://localhost:8080/"
        },
        "id": "_9haPKDEMila",
        "outputId": "be37b4d0-c329-47fc-aab0-61315f014a03"
      },
      "execution_count": null,
      "outputs": [
        {
          "output_type": "stream",
          "name": "stdout",
          "text": [
            "x_position': 19, 'y_position': 72, 'speed': medium\n"
          ]
        }
      ]
    },
    {
      "cell_type": "code",
      "source": [
        "'''Q6. Show a basic implementation of abstraction in python using the abstract classes.\n",
        "1. Create an abstract class in python.\n",
        "2. Implement abstraction with the other classes and base class as abstract class.'''\n",
        "\n",
        "from abc import ABC,abstractmethod\n",
        "\n",
        "class Computer(ABC):\n",
        "  @abstractmethod\n",
        "  def process(self):\n",
        "    pass\n",
        "\n",
        "class Laptop(Computer):\n",
        "  def process(self):\n",
        "    print(\"its a laptop\")\n",
        "\n",
        "l=Laptop()\n",
        "l.process()"
      ],
      "metadata": {
        "colab": {
          "base_uri": "https://localhost:8080/"
        },
        "id": "1mEPcWK6Ly7j",
        "outputId": "61c5ddb8-8e88-45fc-db67-3431d8058333"
      },
      "execution_count": null,
      "outputs": [
        {
          "output_type": "stream",
          "name": "stdout",
          "text": [
            "its a laptop\n"
          ]
        }
      ]
    },
    {
      "cell_type": "code",
      "source": [
        "'''Q7. Create a program in python to demonstrate Polymorphism.\n",
        "1. Make use of private and protected members using python name mangling techniques.'''\n",
        "\n",
        "#method overriding\n",
        "\n",
        "class Animal:  #parent class\n",
        "  def __init__(self,name,sound):\n",
        "    self.__name=name  #private class\n",
        "    self._sound=sound #protected class\n",
        "\n",
        "  def get_name(self):\n",
        "    return f\"{self.__name}\"\n",
        "\n",
        "class Dog(Animal):\n",
        "  def __init__(self,name,sound):\n",
        "    super().__init__(name,sound)\n",
        "\n",
        "#__name is a private variable. so it could not be accessed directly by a child function\n",
        "#instead getter method for __name variable is accessed by the child class function\n",
        "  def display(self):\n",
        "    return f\"Name: {self.get_name()}  Sound: {self._sound}\"\n",
        "\n",
        "\n",
        "d=Dog(\"Tom\",\"Bark\")\n",
        "print(d.display())"
      ],
      "metadata": {
        "colab": {
          "base_uri": "https://localhost:8080/"
        },
        "id": "u8MEW9-GJ-4d",
        "outputId": "515976a7-0ef7-4c29-9a70-ba5e92596a2a"
      },
      "execution_count": null,
      "outputs": [
        {
          "output_type": "stream",
          "name": "stdout",
          "text": [
            "Name: Tom  Sound: Bark\n"
          ]
        }
      ]
    },
    {
      "cell_type": "code",
      "source": [
        "'''Q8. Given a list of 50 natural numbers from 1-50. Create a function that will take every element\n",
        "from the list and return the square of each element. Use the python map and filter methods to\n",
        "implement the function on the given list.'''\n",
        "\n",
        "l=list(range(1,51))\n",
        "filtered_numbers = filter(lambda x: x > 0, l)\n",
        "sq=lambda x:x*x\n",
        "result=list(map(sq,l))\n",
        "print(result)"
      ],
      "metadata": {
        "colab": {
          "base_uri": "https://localhost:8080/"
        },
        "id": "lyLmgt60-4Mp",
        "outputId": "76b4c4de-6acb-433a-91d4-c49b15d1368e"
      },
      "execution_count": null,
      "outputs": [
        {
          "output_type": "stream",
          "name": "stdout",
          "text": [
            "[1, 4, 9, 16, 25, 36, 49, 64, 81, 100, 121, 144, 169, 196, 225, 256, 289, 324, 361, 400, 441, 484, 529, 576, 625, 676, 729, 784, 841, 900, 961, 1024, 1089, 1156, 1225, 1296, 1369, 1444, 1521, 1600, 1681, 1764, 1849, 1936, 2025, 2116, 2209, 2304, 2401, 2500]\n"
          ]
        }
      ]
    },
    {
      "cell_type": "code",
      "execution_count": 2,
      "metadata": {
        "id": "l6tXGDO8iNp8"
      },
      "outputs": [],
      "source": [
        "'''Q9. Create a class, Triangle. Its init() method should take self, angle1, angle2, and angle3 as\n",
        "arguments.\n",
        "Q10. Create a class variable named number_of_sides and set it equal to 3.\n",
        "Q11. Create a method named check_angles. The sum of a triangle's three angles should return\n",
        "True if the sum is equal to 180, and False otherwise. The method should print whether the\n",
        "angles belong to a triangle or not.\n",
        "Q11.1 Write methods to verify if the triangle is an acute triangle or obtuse triangle.\n",
        "'''\n",
        "\n",
        "class Triangle:\n",
        "  number_of_sides=3    # answer for Q10\n",
        "  def __init__(self,angle1,angle2,angle3):    #answer for Q9\n",
        "    self.angle1=angle1\n",
        "    self.angle2=angle2\n",
        "    self.angle3=angle3\n",
        "  def check_angles(self):     #answer for Q11\n",
        "    sum=self.angle1+self.angle2+self.angle3\n",
        "    if sum==180:\n",
        "      print(\"Angles belong to a triangle\")\n",
        "      return True\n",
        "    else:\n",
        "      print(\"Angles do not belong to a triangle\")\n",
        "      return False\n",
        "  def acute_triangle(self):   #answer for Q11.1\n",
        "    if(self.angle1<90 and self.angle2<90 and self.angle3<90):\n",
        "      print(\"Triangle is acute\")\n",
        "    else:\n",
        "      print(\"Triangle is not acute\")\n",
        "  def obtuse_triangle(self):   #answer for Q11.1\n",
        "    if self.angle1>90 or self.angle2>90 or self.angle3>90:\n",
        "      print(\"Triangle is obtuse\")\n",
        "    else:\n",
        "      print(\"Triangle is not obtuse\")\n"
      ]
    },
    {
      "cell_type": "code",
      "source": [
        "'''\n",
        "11.2 Create an instance of the triangle class and call all the defined methods.\n",
        "'''\n",
        "\n",
        "t1=Triangle(60,30,91) #answer for Q11.2\n",
        "t1.check_angles()\n",
        "t1.acute_triangle()\n",
        "t1.obtuse_triangle()"
      ],
      "metadata": {
        "colab": {
          "base_uri": "https://localhost:8080/"
        },
        "id": "gFMf2m2hmTgg",
        "outputId": "56e242c6-1d4d-4db6-d45c-62ae0ba0c351"
      },
      "execution_count": 3,
      "outputs": [
        {
          "output_type": "stream",
          "name": "stdout",
          "text": [
            "Angles do not belong to a triangle\n",
            "Triangle is not acute\n",
            "Triangle is obtuse\n"
          ]
        }
      ]
    },
    {
      "cell_type": "code",
      "source": [
        "'''11.3 Create three child classes of triangle class - isosceles_triangle, right_triangle and\n",
        "equilateral_triangle.\n",
        "11.4 Define methods which check for their properties.\n",
        "'''\n",
        "class isosceles_triangle(Triangle):   #answer for Q11.3\n",
        "  def __init__(self,angle1,angle2,angle3):\n",
        "    super().__init__(angle1,angle2,angle3)\n",
        "  #if any two angles are equal, then its isosceles\n",
        "  def check_isosceles(self):          #answer for Q11.4\n",
        "    if(self.angle1==self.angle2 or self.angle1==self.angle3 or self.angle2==self.angle3):\n",
        "      return \"triangle is isosceles\"\n",
        "    else:\n",
        "      return \"triangle is not isosceles\"\n",
        "\n",
        "class right_triangle(Triangle):       #answer for Q11.3\n",
        "    def __init__(self,angle1,angle2,angle3):\n",
        "      super().__init__(angle1,angle2,angle3)\n",
        "      #if any one angle is 90, then its right triangle\n",
        "    def check_righttriangle(self):          #answer for Q11.4\n",
        "      if self.angle1==90 or self.angle2==90 or self.angle3==90:\n",
        "         return \"triangle is right triangle\"\n",
        "      else:\n",
        "         return \"triangle is not right triangle\"\n",
        "\n",
        "\n",
        "class equilateral_triangle(Triangle):       #answer for Q11.3\n",
        "    def __init__(self,angle1,angle2,angle3):\n",
        "      super().__init__(angle1,angle2,angle3)\n",
        "      #if all the angles are 60 degree, then equilateral\n",
        "    def check_equilateraltriangle(self):          #answer for Q11.4\n",
        "      if self.angle1==60 and self.angle2==60 and self.angle3==60:\n",
        "         return \"triangle is equilateral\"\n",
        "      else:\n",
        "         return \"triangle is not equilateral\"\n",
        "\n",
        "\n",
        "t4=isosceles_triangle(60,60,60)\n",
        "t2=right_triangle(60,60,60)\n",
        "t3=equilateral_triangle(60,60,60)\n",
        "print(t4.check_isosceles())\n",
        "print(t2.check_righttriangle())\n",
        "print(t3.check_equilateraltriangle())\n"
      ],
      "metadata": {
        "colab": {
          "base_uri": "https://localhost:8080/"
        },
        "id": "j15VDfxMnWAe",
        "outputId": "f1b86cca-0342-4ab3-da57-ef11a26c7ceb"
      },
      "execution_count": 4,
      "outputs": [
        {
          "output_type": "stream",
          "name": "stdout",
          "text": [
            "triangle is isosceles\n",
            "triangle is not right triangle\n",
            "triangle is equilateral\n"
          ]
        }
      ]
    },
    {
      "cell_type": "code",
      "source": [
        "'''Q12. Create a class isosceles_right_triangle which inherits from isosceles_triangle and\n",
        "right_triangle.\n",
        "12.1 Define methods which check for their properties.'''\n",
        "\n",
        "class isosceles_right_triangle(isosceles_triangle, right_triangle):\n",
        "    def __init__(self, angle1, angle2, angle3):\n",
        "        super().__init__(angle1, angle2, angle3)\n",
        "\n",
        "    def check_isosceles_right(self):\n",
        "        isosceles = self.check_isosceles()  # Check if it's an isosceles triangle\n",
        "        right_triangle = self.check_righttriangle()  # Check if it's a right triangle\n",
        "\n",
        "        if isosceles == \"Triangle is isosceles\" and right_triangle == \"Triangle is a right triangle\":\n",
        "            return \"Triangle is an isosceles right triangle\"\n",
        "        else:\n",
        "            return \"Triangle is not an isosceles right triangle\"\n",
        "\n",
        "triangle = isosceles_right_triangle(90, 45, 45)\n",
        "print(triangle.check_isosceles_right())\n"
      ],
      "metadata": {
        "id": "sxbaImbRDs4q",
        "colab": {
          "base_uri": "https://localhost:8080/"
        },
        "outputId": "d5691f5d-8012-45c3-b41e-4a55e2b6c44a"
      },
      "execution_count": 6,
      "outputs": [
        {
          "output_type": "stream",
          "name": "stdout",
          "text": [
            "Triangle is not an isosceles right triangle\n"
          ]
        }
      ]
    }
  ]
}